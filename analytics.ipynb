{
 "cells": [
  {
   "cell_type": "code",
   "execution_count": 15,
   "id": "51ea26cf-3fc9-4fc9-83ba-0d7c8628440e",
   "metadata": {},
   "outputs": [
    {
     "name": "stdout",
     "output_type": "stream",
     "text": [
      "Overwriting analytics.py\n"
     ]
    }
   ],
   "source": [
    "%%writefile analytics.py\n",
    "import streamlit as st\n",
    "import plotly.express as px\n",
    "import plotly.io as pio\n",
    "import pandas as pd\n",
    "\n",
    "pio.templates.default = \"plotly_white\"\n",
    "\n",
    "colors = [\"#03265b\", \"#416445\", \"#38b6ff\"]\n",
    "\n",
    "def show_analytics(conn, texts):\n",
    "    st.markdown(\"<h2 style='color:#2c3e50;'>Analytics</h2>\", unsafe_allow_html=True)\n",
    "\n",
    "    cursor = conn.cursor()\n",
    "    cursor.execute(\"SELECT * FROM complaints\")\n",
    "    complaints_data = cursor.fetchall()\n",
    "\n",
    "    if complaints_data:\n",
    "        \n",
    "        df = pd.DataFrame(complaints_data, columns=[\n",
    "            \"id\", \"name\", \"email\", \"category\", \"content\", \"status\"\n",
    "        ])\n",
    "\n",
    "        \n",
    "        # KPIs\n",
    "        total = len(df)\n",
    "        resolved_statuses = [\"resolved\", \"تم الحل\", \"solved\", \"closed\"]  \n",
    "        resolved = len(df[df[\"status\"].str.lower().isin(resolved_statuses)])\n",
    "        unresolved = total - resolved\n",
    "        percent_resolved = (resolved / total) * 100 if total > 0 else 0\n",
    "\n",
    "        kpi1, kpi2, kpi3 = st.columns(3)\n",
    "        kpi1.metric(label=\"Total Complaints\", value=total)\n",
    "        kpi2.metric(label=\"Resolved Complaints\", value=resolved)\n",
    "        kpi3.metric(label=\"Resolution Rate\", value=f\"{percent_resolved:.2f}%\")\n",
    "\n",
    "        st.markdown(\"---\")\n",
    "\n",
    "        \n",
    "        row1_col1, row1_col2 = st.columns(2)\n",
    "\n",
    "        with row1_col1:\n",
    "            fig_cat = px.bar(df, x=\"category\", color=\"category\", title=\"Complaints by Category\", color_discrete_sequence=colors)\n",
    "            fig_cat.update_layout(title_font_size=18, title_font_color=\"#2c3e50\")\n",
    "            st.plotly_chart(fig_cat, use_container_width=True)\n",
    "\n",
    "        with row1_col2:\n",
    "            fig_status = px.pie(df, names=\"status\", title=\"Complaints by Status\", color_discrete_sequence=colors)\n",
    "            fig_status.update_traces(textinfo=\"percent+label\", pull=0.03)\n",
    "            fig_status.update_layout(title_font_size=18, title_font_color=\"#2c3e50\")\n",
    "            st.plotly_chart(fig_status, use_container_width=True)\n",
    "\n",
    "     \n",
    "\n",
    "    else:\n",
    "        st.warning(\"No complaint data found in the database.\")\n"
   ]
  },
  {
   "cell_type": "code",
   "execution_count": null,
   "id": "007886ab-6a76-40e9-bf7c-40bfae38d99a",
   "metadata": {},
   "outputs": [],
   "source": []
  }
 ],
 "metadata": {
  "kernelspec": {
   "display_name": "Python 3 (ipykernel)",
   "language": "python",
   "name": "python3"
  },
  "language_info": {
   "codemirror_mode": {
    "name": "ipython",
    "version": 3
   },
   "file_extension": ".py",
   "mimetype": "text/x-python",
   "name": "python",
   "nbconvert_exporter": "python",
   "pygments_lexer": "ipython3",
   "version": "3.12.7"
  }
 },
 "nbformat": 4,
 "nbformat_minor": 5
}
