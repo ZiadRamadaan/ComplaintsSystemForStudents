{
 "cells": [
  {
   "cell_type": "code",
   "execution_count": 14,
   "id": "19bc2cd4-b214-408e-b8f8-3eade1eb156f",
   "metadata": {},
   "outputs": [
    {
     "name": "stdout",
     "output_type": "stream",
     "text": [
      "Overwriting complaints.py\n"
     ]
    }
   ],
   "source": [
    "%%writefile complaints.py\n",
    "import streamlit as st\n",
    "from datetime import datetime\n",
    "from database import validate_student_id_only, load_data\n",
    "\n",
    "def file_complaint(conn, texts):\n",
    "    st.title(texts[\"new_complaint\"])\n",
    "\n",
    "    student_id = st.text_input(\"رقم الطالب\")\n",
    "    category = st.selectbox(texts[\"complaint_type\"], texts[\"complaint_types\"])\n",
    "    priority = st.selectbox(texts[\"priority\"], texts[\"priorities\"])\n",
    "    content = st.text_area(texts[\"complaint_content\"])\n",
    "\n",
    "    if st.button(texts[\"submit\"]):\n",
    "        if not student_id or not category or not content:\n",
    "            st.error(texts[\"fill_fields\"])\n",
    "        else:\n",
    "            if validate_student_id_only(student_id, conn):\n",
    "                cursor = conn.cursor()\n",
    "                cursor.execute(\"\"\"\n",
    "                    INSERT INTO complaints (student_id, description, type, status, timestamp)\n",
    "                    VALUES (?, ?, ?, 'pending', CURRENT_TIMESTAMP)\n",
    "                \"\"\", (student_id, content, category))\n",
    "                conn.commit()\n",
    "                st.session_state.notifications.append(texts[\"complaint_success\"])\n",
    "            else:\n",
    "                st.error(\"رقم الطالب غير موجود في النظام.\")\n",
    "\n",
    "def manage_complaints(conn, texts):\n",
    "    st.title(texts[\"manage_complaints_title\"])\n",
    "    complaints = load_data(conn)  # ترجع الشكاوى فقط\n",
    "\n",
    "    if complaints:\n",
    "        for complaint in complaints:\n",
    "            st.write(f\"Complaint ID: {complaint[0]} | Student ID: {complaint[1]} | Status: {complaint[3]}\")\n",
    "\n",
    "        complaint_id = st.text_input(texts[\"search_complaint\"], \"\")\n",
    "        if complaint_id:\n",
    "            cursor = conn.cursor()\n",
    "            cursor.execute(\"\"\"\n",
    "                SELECT c.complaint_id, c.student_id, c.description, c.status, c.type, c.timestamp,\n",
    "                       s.name, s.email, s.level, s.department\n",
    "                FROM complaints c\n",
    "                LEFT JOIN students s ON c.student_id = s.student_id\n",
    "                WHERE c.complaint_id = ?\n",
    "            \"\"\", (complaint_id,))\n",
    "            complaint = cursor.fetchone()\n",
    "\n",
    "            if complaint:\n",
    "                st.subheader(texts[\"complaint_details\"])\n",
    "                st.write(f\"Complaint ID: {complaint[0]}\")\n",
    "                st.write(f\"Student ID: {complaint[1]}\")\n",
    "                st.write(f\"Type: {complaint[4]}\")\n",
    "                st.write(f\"Status: {complaint[3]}\")\n",
    "                st.write(f\"Description:\\n{complaint[2]}\")\n",
    "                st.write(f\"Timestamp: {complaint[5]}\")\n",
    "                st.write(\"---\")\n",
    "                st.write(\"Student Information:\")\n",
    "                st.write(f\"Name: {complaint[6]}\")\n",
    "                st.write(f\"Email: {complaint[7]}\")\n",
    "                st.write(f\"Level: {complaint[8]}\")\n",
    "                st.write(f\"Department: {complaint[9]}\")\n",
    "\n",
    "                status = st.selectbox(texts[\"new_status\"], texts[\"statuses\"], index=texts[\"statuses\"].index(complaint[3]) if complaint[3] in texts[\"statuses\"] else 0)\n",
    "                if st.button(texts[\"update_button\"]):\n",
    "                    cursor.execute(\"UPDATE complaints SET status = ? WHERE complaint_id = ?\", (status, complaint[0]))\n",
    "                    conn.commit()\n",
    "                    st.success(texts[\"status_updated\"])\n",
    "            else:\n",
    "                st.error(texts[\"no_complaint\"])\n",
    "    else:\n",
    "        st.write(texts[\"no_complaints\"])\n"
   ]
  },
  {
   "cell_type": "code",
   "execution_count": null,
   "id": "73bb0f34-35e0-4e1c-842d-571374c49232",
   "metadata": {},
   "outputs": [],
   "source": []
  }
 ],
 "metadata": {
  "kernelspec": {
   "display_name": "Python 3 (ipykernel)",
   "language": "python",
   "name": "python3"
  },
  "language_info": {
   "codemirror_mode": {
    "name": "ipython",
    "version": 3
   },
   "file_extension": ".py",
   "mimetype": "text/x-python",
   "name": "python",
   "nbconvert_exporter": "python",
   "pygments_lexer": "ipython3",
   "version": "3.12.7"
  }
 },
 "nbformat": 4,
 "nbformat_minor": 5
}
