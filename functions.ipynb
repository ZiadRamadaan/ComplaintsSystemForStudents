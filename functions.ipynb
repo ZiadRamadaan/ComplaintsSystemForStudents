{
 "cells": [
  {
   "cell_type": "code",
   "execution_count": 13,
   "id": "a087ae0a-32fe-42bb-8e81-b2ab6ab474da",
   "metadata": {},
   "outputs": [
    {
     "name": "stdout",
     "output_type": "stream",
     "text": [
      "Overwriting functions.py\n"
     ]
    }
   ],
   "source": [
    "%%writefile functions.py\n",
    "import sqlite3\n",
    "\n",
    "DB_NAME = \"university.db\"\n",
    "\n",
    "def connect_db():\n",
    "    return sqlite3.connect(DB_NAME)\n",
    "\n",
    "def get_students():\n",
    "    conn = connect_db()\n",
    "    cursor = conn.cursor()\n",
    "    cursor.execute(\"SELECT * FROM students\")\n",
    "    students = cursor.fetchall()\n",
    "    cursor.close()\n",
    "    conn.close()\n",
    "    return students\n",
    "\n",
    "def add_complaint_with_type(student_id, complaint_type, description):\n",
    "    conn = connect_db()\n",
    "    cursor = conn.cursor()\n",
    "    cursor.execute(\"\"\"\n",
    "        INSERT INTO complaints (student_id, status, description, type)\n",
    "        VALUES (?, 'pending', ?, ?)\n",
    "    \"\"\", (student_id, description, complaint_type))\n",
    "    conn.commit()\n",
    "    cursor.close()\n",
    "    conn.close()\n",
    "\n",
    "\n",
    "def get_complaints():\n",
    "    conn = connect_db()\n",
    "    cursor = conn.cursor()\n",
    "    cursor.execute(\"\"\"\n",
    "        SELECT c.complaint_id, s.name, c.description, c.status, c.timestamp\n",
    "        FROM complaints c LEFT JOIN students s ON c.student_id = s.student_id\n",
    "        ORDER BY c.timestamp DESC\n",
    "    \"\"\")\n",
    "    complaints = cursor.fetchall()\n",
    "    cursor.close()\n",
    "    conn.close()\n",
    "    return complaints\n",
    "\n",
    "def update_complaint_status(complaint_id, new_status):\n",
    "    if new_status not in ('pending', 'reviewed', 'closed'):\n",
    "        return False\n",
    "    conn = connect_db()\n",
    "    cursor = conn.cursor()\n",
    "    cursor.execute(\"UPDATE complaints SET status = ? WHERE complaint_id = ?\", (new_status, complaint_id))\n",
    "    conn.commit()\n",
    "    cursor.close()\n",
    "    conn.close()\n",
    "    return True\n",
    "\n",
    "def validate_student(student_id, email):\n",
    "    conn = connect_db()\n",
    "    cursor = conn.cursor()\n",
    "    cursor.execute(\"SELECT * FROM students WHERE student_id = ? AND email = ?\", (student_id, email))\n",
    "    student = cursor.fetchone()\n",
    "    cursor.close()\n",
    "    conn.close()\n",
    "    return student is not None\n",
    "\n"
   ]
  },
  {
   "cell_type": "code",
   "execution_count": null,
   "id": "b9b21ed6-848f-4a25-927e-36c3308d3bb2",
   "metadata": {},
   "outputs": [],
   "source": []
  }
 ],
 "metadata": {
  "kernelspec": {
   "display_name": "Python 3 (ipykernel)",
   "language": "python",
   "name": "python3"
  },
  "language_info": {
   "codemirror_mode": {
    "name": "ipython",
    "version": 3
   },
   "file_extension": ".py",
   "mimetype": "text/x-python",
   "name": "python",
   "nbconvert_exporter": "python",
   "pygments_lexer": "ipython3",
   "version": "3.12.7"
  }
 },
 "nbformat": 4,
 "nbformat_minor": 5
}
