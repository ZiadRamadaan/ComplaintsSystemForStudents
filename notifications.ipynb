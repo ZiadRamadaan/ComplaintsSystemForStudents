{
 "cells": [
  {
   "cell_type": "code",
   "execution_count": 1,
   "id": "698aa8e0-c9c1-433b-bc3e-ec437e00491e",
   "metadata": {},
   "outputs": [
    {
     "name": "stdout",
     "output_type": "stream",
     "text": [
      "Writing notifications.py\n"
     ]
    }
   ],
   "source": [
    "%%writefile notifications.py\n",
    "import streamlit as st\n",
    "\n",
    "def display_notifications():\n",
    "    if \"notifications\" in st.session_state and st.session_state.notifications:\n",
    "        for message in st.session_state.notifications:\n",
    "            st.success(message)\n",
    "        st.session_state.notifications.clear()"
   ]
  },
  {
   "cell_type": "code",
   "execution_count": null,
   "id": "bfd6e95a-5bc5-423b-87f9-b02c2d503656",
   "metadata": {},
   "outputs": [],
   "source": []
  }
 ],
 "metadata": {
  "kernelspec": {
   "display_name": "Python 3 (ipykernel)",
   "language": "python",
   "name": "python3"
  },
  "language_info": {
   "codemirror_mode": {
    "name": "ipython",
    "version": 3
   },
   "file_extension": ".py",
   "mimetype": "text/x-python",
   "name": "python",
   "nbconvert_exporter": "python",
   "pygments_lexer": "ipython3",
   "version": "3.12.7"
  }
 },
 "nbformat": 4,
 "nbformat_minor": 5
}
