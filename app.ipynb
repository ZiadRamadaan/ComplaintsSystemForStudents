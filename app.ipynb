{
 "cells": [
  {
   "cell_type": "code",
   "execution_count": 15,
   "id": "3fe9e134-3886-47f5-8907-20312374ed58",
   "metadata": {},
   "outputs": [
    {
     "name": "stdout",
     "output_type": "stream",
     "text": [
      "Overwriting app.py\n"
     ]
    }
   ],
   "source": [
    "%%writefile app.py\n",
    "import streamlit as st\n",
    "import functions\n",
    "\n",
    "st.title(\"نظام إدارة شكاوى الطلاب\")\n",
    "\n",
    "# صفحة تسجيل الدخول\n",
    "# تسجيل الدخول\n",
    "if 'logged_in' not in st.session_state:\n",
    "    st.session_state.logged_in = False\n",
    "\n",
    "if not st.session_state.logged_in:\n",
    "    st.header(\"تسجيل الدخول\")\n",
    "    student_id = st.text_input(\"رقم الطالب\")\n",
    "    email = st.text_input(\"البريد الإلكتروني\")\n",
    "    if st.button(\"تسجيل الدخول\"):\n",
    "        if functions.validate_student(student_id, email):\n",
    "            st.session_state.logged_in = True\n",
    "            st.session_state.student_id = student_id\n",
    "            st.success(\"تم تسجيل الدخول بنجاح!\")\n",
    "        else:\n",
    "            st.error(\"بيانات غير صحيحة، حاول مرة أخرى.\")\n",
    "else:\n",
    "    st.header(f\"مرحبًا بك، طالب رقم: {st.session_state.student_id}\")\n",
    "\n",
    "    # اختيار نوع الشكوى\n",
    "    complaint_type = st.selectbox(\n",
    "        \"اختر نوع الطلب\",\n",
    "        [\"شكوى\", \"متطلبات\", \"اقتراحات\"]\n",
    "    )\n",
    "\n",
    "    # كتابة تفاصيل الشكوى\n",
    "    description = st.text_area(\"تفاصيل الطلب\")\n",
    "\n",
    "    if st.button(\"إرسال الطلب\"):\n",
    "        if description.strip() == \"\":\n",
    "            st.error(\"يرجى كتابة تفاصيل الطلب.\")\n",
    "        else:\n",
    "            # نرسل نوع الشكوى مع التفاصيل\n",
    "            functions.add_complaint_with_type(st.session_state.student_id, complaint_type, description)\n",
    "            st.success(f\"تم إرسال {complaint_type} بنجاح!\")\n",
    "\n",
    "    if st.button(\"تسجيل الخروج\"):\n",
    "        st.session_state.logged_in = False\n",
    "        st.session_state.student_id = None\n",
    "        st.experimental_rerun()\n"
   ]
  },
  {
   "cell_type": "code",
   "execution_count": null,
   "id": "21ed6064-18f0-404c-a68e-43702453051e",
   "metadata": {},
   "outputs": [],
   "source": []
  }
 ],
 "metadata": {
  "kernelspec": {
   "display_name": "Python 3 (ipykernel)",
   "language": "python",
   "name": "python3"
  },
  "language_info": {
   "codemirror_mode": {
    "name": "ipython",
    "version": 3
   },
   "file_extension": ".py",
   "mimetype": "text/x-python",
   "name": "python",
   "nbconvert_exporter": "python",
   "pygments_lexer": "ipython3",
   "version": "3.12.7"
  }
 },
 "nbformat": 4,
 "nbformat_minor": 5
}
