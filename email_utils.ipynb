{
 "cells": [
  {
   "cell_type": "code",
   "execution_count": 1,
   "id": "e0c0fdaa-3b89-4c0c-9562-5770bf1587ac",
   "metadata": {},
   "outputs": [
    {
     "name": "stdout",
     "output_type": "stream",
     "text": [
      "Requirement already satisfied: python-dotenv in c:\\users\\dell\\anaconda3\\lib\\site-packages (0.21.0)\n",
      "Note: you may need to restart the kernel to use updated packages.\n"
     ]
    }
   ],
   "source": [
    "pip install python-dotenv"
   ]
  },
  {
   "cell_type": "code",
   "execution_count": 4,
   "id": "b06c0c58-a67e-4526-b408-f6b91a1e51f2",
   "metadata": {},
   "outputs": [
    {
     "name": "stdout",
     "output_type": "stream",
     "text": [
      "Overwriting email_utils.py\n"
     ]
    }
   ],
   "source": [
    "%%writefile email_utils.py\n",
    "import smtplib\n",
    "from email.message import EmailMessage\n",
    "import streamlit as st\n",
    "\n",
    "EMAIL_SENDER = st.secrets[\"email\"][\"sender\"]\n",
    "EMAIL_PASSWORD = st.secrets[\"email\"][\"password\"]\n",
    "EMAIL_RECEIVER = \"esraamaghrabi14@gmail.com\"  # Admin email\n",
    "\n",
    "def send_email(user_email, name, category, priority, content, language=\"English\"):\n",
    "    try:\n",
    "        # إنشاء رسالة المستخدم\n",
    "        msg_user = EmailMessage()\n",
    "        msg_user['From'] = EMAIL_SENDER\n",
    "        msg_user['To'] = user_email\n",
    "\n",
    "        if language == \"Arabic\":\n",
    "            msg_user['Subject'] = \"تم استلام الشكوى\"\n",
    "            msg_user.set_content(\n",
    "                f\"عزيزي {name},\\n\\n\"\n",
    "                \"تم استلام شكواك بنجاح وهي الآن قيد المراجعة من قبل فريقنا المختص.\\n\"\n",
    "                \"سنعمل على التعامل معها في أسرع وقت ممكن.\\n\\n\"\n",
    "                \"شكرًا لتواصلك معنا.\\n\\n\"\n",
    "                \"مع أطيب التحيات،\\n\"\n",
    "                \"فريق إدارة الشكاوى\"\n",
    "            )\n",
    "        else:\n",
    "            msg_user['Subject'] = \"Complaint Received\"\n",
    "            msg_user.set_content(\n",
    "                f\"Dear {name},\\n\\n\"\n",
    "                \"We have received your complaint and it has been submitted to our system.\\n\"\n",
    "                \"Our team is reviewing it and will take the necessary actions shortly.\\n\\n\"\n",
    "                \"Thank you for contacting us.\\n\\n\"\n",
    "                \"Best regards,\\n\"\n",
    "                \"Complaints Management Team\"\n",
    "            )\n",
    "\n",
    "        # إنشاء رسالة الإدمن\n",
    "        msg_admin = EmailMessage()\n",
    "        msg_admin['From'] = EMAIL_SENDER\n",
    "        msg_admin['To'] = EMAIL_RECEIVER\n",
    "        msg_admin['Subject'] = \"New Complaint Submitted\"\n",
    "        msg_admin.set_content(\n",
    "            f\"A new complaint has been submitted to the system:\\n\\n\"\n",
    "            f\"Name: {name}\\n\"\n",
    "            f\"Email: {user_email}\\n\"\n",
    "            f\"Category: {category}\\n\"\n",
    "            f\"Priority: {priority}\\n\"\n",
    "            f\"Complaint Content:\\n{content}\\n\\n\"\n",
    "            \"Please follow up on this complaint via the admin dashboard.\"\n",
    "        )\n",
    "\n",
    "        # إرسال الرسالتين باستخدام اتصال SMTP واحد\n",
    "        with smtplib.SMTP_SSL('smtp.gmail.com', 465) as smtp:\n",
    "            smtp.login(EMAIL_SENDER, EMAIL_PASSWORD)\n",
    "            smtp.send_message(msg_user)\n",
    "            smtp.send_message(msg_admin)\n",
    "\n",
    "        st.success(\"تم إرسال الرسائل الإلكترونية بنجاح!\")\n",
    "\n",
    "    except Exception as e:\n",
    "        st.error(f\"حدث خطأ أثناء إرسال الرسائل: {e}\")\n",
    "\n"
   ]
  },
  {
   "cell_type": "code",
   "execution_count": null,
   "id": "996ed328-f564-4279-9a53-3d4c467c8b0d",
   "metadata": {},
   "outputs": [],
   "source": []
  }
 ],
 "metadata": {
  "kernelspec": {
   "display_name": "Python 3 (ipykernel)",
   "language": "python",
   "name": "python3"
  },
  "language_info": {
   "codemirror_mode": {
    "name": "ipython",
    "version": 3
   },
   "file_extension": ".py",
   "mimetype": "text/x-python",
   "name": "python",
   "nbconvert_exporter": "python",
   "pygments_lexer": "ipython3",
   "version": "3.12.7"
  }
 },
 "nbformat": 4,
 "nbformat_minor": 5
}
